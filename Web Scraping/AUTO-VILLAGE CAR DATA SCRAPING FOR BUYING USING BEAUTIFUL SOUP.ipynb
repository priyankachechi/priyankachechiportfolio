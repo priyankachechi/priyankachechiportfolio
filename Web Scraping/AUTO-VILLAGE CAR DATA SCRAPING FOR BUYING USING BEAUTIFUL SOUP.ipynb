{
 "cells": [
  {
   "cell_type": "markdown",
   "metadata": {},
   "source": [
    "# AUTOVILLAGE CAR DATA SCRAPING FOR BUYING USING BEAUTIFUL SOUP\n",
    "In this project, I scraped data from waterstones website using BeautifulSoup. I will use this data for future analysis.\n",
    "\n",
    "For scraping data from this website, I'll perform the following tasks:\n",
    "\n",
    "[**Task 1**](#task1): Importing the libraries\n",
    "\n",
    "[**Task 2**](#task2): Creating the base url and choosing the header\n",
    "\n",
    "[**Task 3**](#task3): Extracting product links on the first page\n",
    "\n",
    "[**Task 4**](#task4): Extracting product links on all the pages\n",
    "\n",
    "[**Task 5**](#task5): Extracting information of the first product\n",
    "\n",
    "[**Task 6**](#task6): Extracting information of all the products"
   ]
  },
  {
   "cell_type": "markdown",
   "metadata": {},
   "source": [
    "<a id='task1'></a>\n",
    "# Task 1: Importing the libraries"
   ]
  },
  {
   "cell_type": "code",
   "execution_count": 1,
   "metadata": {},
   "outputs": [],
   "source": [
    "from bs4 import BeautifulSoup\n",
    "import requests\n",
    "import pandas as pd"
   ]
  },
  {
   "cell_type": "markdown",
   "metadata": {},
   "source": [
    "<a id='task2'></a>\n",
    "# Task 2: Creating the base url and choosing the header"
   ]
  },
  {
   "cell_type": "code",
   "execution_count": 2,
   "metadata": {},
   "outputs": [],
   "source": [
    "base_url = 'https://www.autovillage.co.uk/'\n",
    "header = {\n",
    "    'user-agent': \"Mozilla/5.0 (Windows NT 10.0; Win64; x64) AppleWebKit/537.36 (KHTML, like Gecko) Chrome/74.0.3729.157 Safari/537.36\"\n",
    "}"
   ]
  },
  {
   "cell_type": "markdown",
   "metadata": {},
   "source": [
    "<a id='task3'></a>\n",
    "# Task 3: Extracting product links on the first page"
   ]
  },
  {
   "cell_type": "code",
   "execution_count": 3,
   "metadata": {},
   "outputs": [],
   "source": [
    "source = requests.get('https://www.autovillage.co.uk/used-car/filter/postcode/tw18/sort/distance', headers = header)\n",
    "soup = BeautifulSoup(source.content, 'lxml')\n"
   ]
  },
  {
   "cell_type": "code",
   "execution_count": 6,
   "metadata": {},
   "outputs": [
    {
     "name": "stdout",
     "output_type": "stream",
     "text": [
      "[<div class=\"alink\"><a href=\"/used-car/ford/fiesta/mtz_48199_58792205\">\r\n",
      "Ford Fiesta 1.1 Zetec 5dr ** Ford SYNC Satellite Navigation ** Manual</a>\n",
      "</div>, <div class=\"alink\"><a href=\"/used-car/citroen/c3/mtz_43415_58923965\">\r\n",
      "Citroen C3 1.6 i 16v Exclusive 5dr</a>\n",
      "</div>, <div class=\"alink\"><a href=\"/used-car/ssangyong/korando/mtz_88232_57904259\">\r\n",
      "Ssangyong Korando 1.6D ULTIMATE AUTO 4X4</a>\n",
      "</div>, <div class=\"alink\"><a href=\"/used-car/volkswagen/golf/mtz_97968_58678796\">\r\n",
      "Volkswagen Golf 1.6 TDI SE 5dr DSG</a>\n",
      "</div>, <div class=\"alink\"><a href=\"/used-car/volkswagen/polo/mtz_81381_58843511\">\r\n",
      "Volkswagen Polo 1.2 60 Match Edition 5dr</a>\n",
      "</div>, <div class=\"alink\"><a href=\"/used-car/toyota/prius/mtz_54587_57372315\">\r\n",
      "Toyota Prius VVT-I T SPIRIT HYBRID Auto</a>\n",
      "</div>, <div class=\"alink\"><a href=\"/used-car/ford/kuga/mtz_48199_58528817\">\r\n",
      "Ford Kuga 2.0 TDCi 150 Zetec 5dr Powershift ** Sync Emergency System ** Automatic</a>\n",
      "</div>, <div class=\"alink\"><a href=\"/used-car/ford/focus/mtz_57339_57605467\">\r\n",
      "Ford Focus 1.0T EcoBoost Titanium (s/s) 5dr</a>\n",
      "</div>, <div class=\"alink\"><a href=\"/used-car/toyota/iq/mtz_85923_58748821\">\r\n",
      "Toyota IQ 1.33 VVT-i 3 3dr</a>\n",
      "</div>, <div class=\"alink\"><a href=\"/used-car/volkswagen/touran/mtz_68983_58392705\">\r\n",
      "Volkswagen Touran 1.4 TSI SEL DSG (S/S) 5DR AUTOMATIC 7 SEAT SAT NAV | FROM 6.9% APR AV</a>\n",
      "</div>]\n"
     ]
    }
   ],
   "source": [
    "productlist = soup.find_all('div', class_ = 'alink')\n",
    "print(productlist)"
   ]
  },
  {
   "cell_type": "code",
   "execution_count": 7,
   "metadata": {},
   "outputs": [
    {
     "name": "stdout",
     "output_type": "stream",
     "text": [
      "/used-car/ford/fiesta/mtz_48199_58792205\n",
      "/used-car/citroen/c3/mtz_43415_58923965\n",
      "/used-car/ssangyong/korando/mtz_88232_57904259\n",
      "/used-car/volkswagen/golf/mtz_97968_58678796\n",
      "/used-car/volkswagen/polo/mtz_81381_58843511\n",
      "/used-car/toyota/prius/mtz_54587_57372315\n",
      "/used-car/ford/kuga/mtz_48199_58528817\n",
      "/used-car/ford/focus/mtz_57339_57605467\n",
      "/used-car/toyota/iq/mtz_85923_58748821\n",
      "/used-car/volkswagen/touran/mtz_68983_58392705\n"
     ]
    }
   ],
   "source": [
    "for item in productlist:\n",
    "    for link in item.find_all('a', href = True):\n",
    "        print(link['href'])\n",
    "    \n",
    "    "
   ]
  },
  {
   "cell_type": "markdown",
   "metadata": {},
   "source": [
    "<a id='task4'></a>\n",
    "# Task 4: Extracting product links on all the pages"
   ]
  },
  {
   "cell_type": "code",
   "execution_count": 14,
   "metadata": {},
   "outputs": [
    {
     "name": "stdout",
     "output_type": "stream",
     "text": [
      "190\n"
     ]
    }
   ],
   "source": [
    "productlinks = []\n",
    "for i in range(1,20):\n",
    "    source = requests.get(f'https://www.autovillage.co.uk/used-car/page/{i}/filter/postcode/tw18/sort/distance')\n",
    "    soup = BeautifulSoup(source.content, 'lxml')\n",
    "    productlist = soup.find_all('div', class_ = 'alink')\n",
    "    for item in productlist:\n",
    "        for link in item.find_all('a', href = True):\n",
    "            productlinks.append(base_url + link['href'])\n",
    "    \n",
    "print(len(productlinks))"
   ]
  },
  {
   "cell_type": "markdown",
   "metadata": {},
   "source": [
    "<a id='task5'></a>\n",
    "# Task 5: Extracting information of the first product"
   ]
  },
  {
   "cell_type": "code",
   "execution_count": 15,
   "metadata": {},
   "outputs": [],
   "source": [
    "testlink = 'https://www.autovillage.co.uk/used-car/ford/fiesta/mtz_48199_58792205'\n",
    "source = requests.get(testlink, headers = header)\n",
    "soup = BeautifulSoup(source.content, 'lxml')"
   ]
  },
  {
   "cell_type": "code",
   "execution_count": 16,
   "metadata": {},
   "outputs": [
    {
     "name": "stdout",
     "output_type": "stream",
     "text": [
      "Ford Fiesta\n"
     ]
    }
   ],
   "source": [
    "name = soup.find('div', class_ = 'fl pb10').text\n",
    "print(name)"
   ]
  },
  {
   "cell_type": "code",
   "execution_count": 61,
   "metadata": {},
   "outputs": [
    {
     "name": "stdout",
     "output_type": "stream",
     "text": [
      "Used Ford Fiesta 1.1 Zetec 5dr ** Ford SYNC Satellite Navigation ** Manual in Staines\n"
     ]
    }
   ],
   "source": [
    "model = soup.find('h1').text\n",
    "print(model)"
   ]
  },
  {
   "cell_type": "code",
   "execution_count": 102,
   "metadata": {},
   "outputs": [
    {
     "name": "stdout",
     "output_type": "stream",
     "text": [
      "9,400\n"
     ]
    }
   ],
   "source": [
    "price_gbp = soup.find('div', class_ = 'text-right pb10').text.strip().replace('£','')\n",
    "print(price_gbp)"
   ]
  },
  {
   "cell_type": "code",
   "execution_count": 89,
   "metadata": {},
   "outputs": [
    {
     "name": "stdout",
     "output_type": "stream",
     "text": [
      "['Manual', 'Reg:\\xa0LD67XHU', '1084cc Engine', '7,161 Miles', 'Hatchback', 'Petrol', '5 Doors', 'Shadow Black (Premium Colour)', '\\r\\n    2017\\r\\n                        ', '£9,400']\n"
     ]
    }
   ],
   "source": [
    "result=[]\n",
    "for div in soup.find('div', class_ = 'vehiclesummary').find_all('div', class_ = 'fl'):\n",
    "    result.append(div.text)\n",
    "print(result)\n"
   ]
  },
  {
   "cell_type": "code",
   "execution_count": 104,
   "metadata": {},
   "outputs": [
    {
     "name": "stdout",
     "output_type": "stream",
     "text": [
      "Manual  LD67XHU 1084cc  7,161  Hatchback Petrol 5  Shadow Black (Premium Colour) 2017\n"
     ]
    }
   ],
   "source": [
    "type_ = result[0]\n",
    "registration = result[1].replace('Reg:','')\n",
    "engine = result[2].replace('Engine','')\n",
    "distance_miles = result[3].replace('Miles','')\n",
    "rear_door_config = result[4]\n",
    "fuel = result[5]\n",
    "no_of_doors = result[6].replace('Doors','')\n",
    "colour = result[7]\n",
    "year = result[8].strip()\n",
    "print(type_, registration,engine,distance_miles, rear_door_config,fuel,no_of_doors,colour,year)"
   ]
  },
  {
   "cell_type": "code",
   "execution_count": 113,
   "metadata": {},
   "outputs": [
    {
     "name": "stdout",
     "output_type": "stream",
     "text": [
      "TrustFord Staines\n"
     ]
    }
   ],
   "source": [
    "agent_name = soup.find('div', class_ = 'dName').text\n",
    "print(agent_name)"
   ]
  },
  {
   "cell_type": "code",
   "execution_count": 114,
   "metadata": {},
   "outputs": [
    {
     "name": "stdout",
     "output_type": "stream",
     "text": [
      "01217569048\n"
     ]
    }
   ],
   "source": [
    "agent_contact = soup.find('a', class_ = 'tel')\n",
    "con = agent_contact['href'].replace('tel:','')\n",
    "print(con)"
   ]
  },
  {
   "cell_type": "code",
   "execution_count": 117,
   "metadata": {},
   "outputs": [
    {
     "name": "stdout",
     "output_type": "stream",
     "text": [
      "{'Name': 'Ford Fiesta', 'Model': 'Used Ford Fiesta 1.1 Zetec 5dr ** Ford SYNC Satellite Navigation ** Manual in Staines', 'Price in GBP': '9,400', 'Type': 'Manual', 'Registration': '\\xa0LD67XHU', 'Engine': '1084cc ', 'Distance in miles': '7,161 ', 'Rear Door Configuration': 'Hatchback', 'Fuel': 'Petrol', 'No of doors': '5 ', 'Colour': 'Shadow Black (Premium Colour)', 'Year': '2017', 'Dealer name': 'TrustFord Staines', 'Dealer_contact': '01217569048'}\n"
     ]
    }
   ],
   "source": [
    "car = {\n",
    "    'Name': name,\n",
    "    'Model':model,\n",
    "    'Price in GBP': price_gbp,\n",
    "    'Type': type_,\n",
    "    'Registration':registration,\n",
    "    'Engine': engine,\n",
    "    'Distance in miles': distance_miles,\n",
    "    'Rear Door Configuration': rear_door_config,\n",
    "    'Fuel': fuel,\n",
    "    'No of doors':no_of_doors,\n",
    "    'Colour': colour,\n",
    "    'Year': year,\n",
    "    'Dealer name': agent_name,\n",
    "    'Dealer_contact': con\n",
    "}\n",
    "print(car)"
   ]
  },
  {
   "cell_type": "markdown",
   "metadata": {},
   "source": [
    "<a id='task6'></a>\n",
    "# Task 6: Extracting information of all the products"
   ]
  },
  {
   "cell_type": "code",
   "execution_count": 119,
   "metadata": {},
   "outputs": [],
   "source": [
    "carlist=[]\n",
    "for link in productlinks:\n",
    "    source = requests.get(link, headers = header)\n",
    "    soup = BeautifulSoup(source.content, 'lxml')\n",
    "    name = soup.find('div', class_ = 'fl pb10').text\n",
    "    model = soup.find('h1').text\n",
    "    price_gbp = soup.find('div', class_ = 'text-right pb10').text.strip().replace('£','')\n",
    "    result=[]\n",
    "    for div in soup.find('div', class_ = 'vehiclesummary').find_all('div', class_ = 'fl'):\n",
    "        result.append(div.text)\n",
    "    try:\n",
    "        type_ = result[0]\n",
    "    except: \n",
    "        type_= 'No info'\n",
    "    try:\n",
    "        registration = result[1].replace('Reg:','')\n",
    "    except: \n",
    "        registration = 'no info'\n",
    "    try:\n",
    "        engine = result[2].replace('Engine','')\n",
    "    except: \n",
    "        engine = 'No info'\n",
    "    try: \n",
    "        distance_miles = result[3].replace('Miles','')\n",
    "    except:\n",
    "        distance_miles = 'No info'\n",
    "    try:\n",
    "        rear_door_config = result[4]\n",
    "    except:\n",
    "        rear_door_config = 'No info'\n",
    "        \n",
    "    try:\n",
    "        fuel = result[5]\n",
    "    except:\n",
    "        fuel = 'No info'\n",
    "        \n",
    "    try:\n",
    "        no_of_doors = result[6].replace('Doors','')\n",
    "    except:\n",
    "        no_of_doors = 'No info'\n",
    "        \n",
    "    try:\n",
    "        colour = result[7]\n",
    "    except:\n",
    "        colour = 'No info'\n",
    "        \n",
    "    try:\n",
    "        year = result[8].strip()\n",
    "    except:\n",
    "        year = 'No info'\n",
    "        \n",
    "    agent_name = soup.find('div', class_ = 'dName').text\n",
    "    agent_contact = soup.find('a', class_ = 'tel')\n",
    "    con = agent_contact['href'].replace('tel:','')\n",
    "    \n",
    "    car = {\n",
    "    'Name': name,\n",
    "    'Model':model,\n",
    "    'Price in GBP': price_gbp,\n",
    "    'Type': type_,\n",
    "    'Registration':registration,\n",
    "    'Engine': engine,\n",
    "    'Distance in miles': distance_miles,\n",
    "    'Rear Door Configuration': rear_door_config,\n",
    "    'Fuel': fuel,\n",
    "    'No of doors':no_of_doors,\n",
    "    'Colour': colour,\n",
    "    'Year': year,\n",
    "    'Dealer name': agent_name,\n",
    "    'Dealer_contact': con\n",
    "    }\n",
    "    carlist.append(car)\n",
    "    \n",
    "\n",
    "  "
   ]
  },
  {
   "cell_type": "code",
   "execution_count": 122,
   "metadata": {},
   "outputs": [
    {
     "data": {
      "text/html": [
       "<div>\n",
       "<style scoped>\n",
       "    .dataframe tbody tr th:only-of-type {\n",
       "        vertical-align: middle;\n",
       "    }\n",
       "\n",
       "    .dataframe tbody tr th {\n",
       "        vertical-align: top;\n",
       "    }\n",
       "\n",
       "    .dataframe thead th {\n",
       "        text-align: right;\n",
       "    }\n",
       "</style>\n",
       "<table border=\"1\" class=\"dataframe\">\n",
       "  <thead>\n",
       "    <tr style=\"text-align: right;\">\n",
       "      <th></th>\n",
       "      <th>Name</th>\n",
       "      <th>Model</th>\n",
       "      <th>Price in GBP</th>\n",
       "      <th>Type</th>\n",
       "      <th>Registration</th>\n",
       "      <th>Engine</th>\n",
       "      <th>Distance in miles</th>\n",
       "      <th>Rear Door Configuration</th>\n",
       "      <th>Fuel</th>\n",
       "      <th>No of doors</th>\n",
       "      <th>Colour</th>\n",
       "      <th>Year</th>\n",
       "      <th>Dealer name</th>\n",
       "      <th>Dealer_contact</th>\n",
       "    </tr>\n",
       "  </thead>\n",
       "  <tbody>\n",
       "    <tr>\n",
       "      <th>0</th>\n",
       "      <td>Ford Fiesta</td>\n",
       "      <td>Used Ford Fiesta 1.1 Zetec 5dr ** Ford SYNC Sa...</td>\n",
       "      <td>9,400</td>\n",
       "      <td>Manual</td>\n",
       "      <td>LD67XHU</td>\n",
       "      <td>1084cc</td>\n",
       "      <td>7,161</td>\n",
       "      <td>Hatchback</td>\n",
       "      <td>Petrol</td>\n",
       "      <td>5</td>\n",
       "      <td>Shadow Black (Premium Colour)</td>\n",
       "      <td>2017</td>\n",
       "      <td>TrustFord Staines</td>\n",
       "      <td>01217569048</td>\n",
       "    </tr>\n",
       "    <tr>\n",
       "      <th>1</th>\n",
       "      <td>Citroen C3</td>\n",
       "      <td>Used Citroen C3 1.6 i 16v Exclusive 5dr in Sta...</td>\n",
       "      <td>3,290</td>\n",
       "      <td>Manual</td>\n",
       "      <td>HV09WTZ</td>\n",
       "      <td>1587cc</td>\n",
       "      <td>41,000</td>\n",
       "      <td>Hatchback</td>\n",
       "      <td>Petrol</td>\n",
       "      <td>5</td>\n",
       "      <td>Silver</td>\n",
       "      <td>2009</td>\n",
       "      <td>Reeds Motors Ltd</td>\n",
       "      <td>01784861954</td>\n",
       "    </tr>\n",
       "    <tr>\n",
       "      <th>2</th>\n",
       "      <td>Ssangyong Korando</td>\n",
       "      <td>Used Ssangyong Korando 1.6D ULTIMATE AUTO 4X4 ...</td>\n",
       "      <td>24,495</td>\n",
       "      <td>Automatic</td>\n",
       "      <td>RE69YDL</td>\n",
       "      <td>1597cc</td>\n",
       "      <td>6,500</td>\n",
       "      <td>Estate</td>\n",
       "      <td>Diesel</td>\n",
       "      <td>5</td>\n",
       "      <td>Dandy Blue</td>\n",
       "      <td>2019</td>\n",
       "      <td>Ian Allan Motors</td>\n",
       "      <td>01344932582</td>\n",
       "    </tr>\n",
       "    <tr>\n",
       "      <th>3</th>\n",
       "      <td>Volkswagen Golf</td>\n",
       "      <td>Used Volkswagen Golf 1.6 TDI SE 5dr DSG in Fel...</td>\n",
       "      <td>13,995</td>\n",
       "      <td>Manual</td>\n",
       "      <td>RX67WZC</td>\n",
       "      <td>1598cc</td>\n",
       "      <td>12,000</td>\n",
       "      <td>Hatchback</td>\n",
       "      <td>Diesel</td>\n",
       "      <td>5</td>\n",
       "      <td>Red</td>\n",
       "      <td>2017</td>\n",
       "      <td>Hanworth Motors</td>\n",
       "      <td>02081312540</td>\n",
       "    </tr>\n",
       "    <tr>\n",
       "      <th>4</th>\n",
       "      <td>Volkswagen Polo</td>\n",
       "      <td>Used Volkswagen Polo 1.2 60 Match Edition 5dr ...</td>\n",
       "      <td>7,299</td>\n",
       "      <td>Manual</td>\n",
       "      <td>NJ63NZC</td>\n",
       "      <td>1198cc</td>\n",
       "      <td>9,800</td>\n",
       "      <td>Hatchback</td>\n",
       "      <td>Petrol</td>\n",
       "      <td>5</td>\n",
       "      <td>Red</td>\n",
       "      <td>2013</td>\n",
       "      <td>Trust Motorcars Ltd</td>\n",
       "      <td>02081312336</td>\n",
       "    </tr>\n",
       "  </tbody>\n",
       "</table>\n",
       "</div>"
      ],
      "text/plain": [
       "                Name                                              Model  \\\n",
       "0        Ford Fiesta  Used Ford Fiesta 1.1 Zetec 5dr ** Ford SYNC Sa...   \n",
       "1         Citroen C3  Used Citroen C3 1.6 i 16v Exclusive 5dr in Sta...   \n",
       "2  Ssangyong Korando  Used Ssangyong Korando 1.6D ULTIMATE AUTO 4X4 ...   \n",
       "3    Volkswagen Golf  Used Volkswagen Golf 1.6 TDI SE 5dr DSG in Fel...   \n",
       "4    Volkswagen Polo  Used Volkswagen Polo 1.2 60 Match Edition 5dr ...   \n",
       "\n",
       "  Price in GBP       Type Registration   Engine Distance in miles  \\\n",
       "0        9,400     Manual      LD67XHU  1084cc             7,161    \n",
       "1        3,290     Manual      HV09WTZ  1587cc            41,000    \n",
       "2       24,495  Automatic      RE69YDL  1597cc             6,500    \n",
       "3       13,995     Manual      RX67WZC  1598cc            12,000    \n",
       "4        7,299     Manual      NJ63NZC  1198cc             9,800    \n",
       "\n",
       "  Rear Door Configuration    Fuel No of doors                         Colour  \\\n",
       "0               Hatchback  Petrol          5   Shadow Black (Premium Colour)   \n",
       "1               Hatchback  Petrol          5                          Silver   \n",
       "2                  Estate  Diesel          5                      Dandy Blue   \n",
       "3               Hatchback  Diesel          5                             Red   \n",
       "4               Hatchback  Petrol          5                             Red   \n",
       "\n",
       "   Year          Dealer name Dealer_contact  \n",
       "0  2017    TrustFord Staines    01217569048  \n",
       "1  2009     Reeds Motors Ltd    01784861954  \n",
       "2  2019     Ian Allan Motors    01344932582  \n",
       "3  2017      Hanworth Motors    02081312540  \n",
       "4  2013  Trust Motorcars Ltd    02081312336  "
      ]
     },
     "execution_count": 122,
     "metadata": {},
     "output_type": "execute_result"
    }
   ],
   "source": [
    "df = pd.DataFrame(carlist)\n",
    "df.head()"
   ]
  }
 ],
 "metadata": {
  "kernelspec": {
   "display_name": "Python 3",
   "language": "python",
   "name": "python3"
  },
  "language_info": {
   "codemirror_mode": {
    "name": "ipython",
    "version": 3
   },
   "file_extension": ".py",
   "mimetype": "text/x-python",
   "name": "python",
   "nbconvert_exporter": "python",
   "pygments_lexer": "ipython3",
   "version": "3.8.3"
  }
 },
 "nbformat": 4,
 "nbformat_minor": 4
}
